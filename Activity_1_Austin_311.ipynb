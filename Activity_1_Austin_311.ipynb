{
  "cells": [
    {
      "cell_type": "markdown",
      "metadata": {
        "id": "IvbrQO7Q-wLL"
      },
      "source": [
        "# Activity #1\n",
        "\n",
        "You are a new Data Scientist working for Austin 3-1-1, and your manager has asked you to answer the \n",
        "following questions: \n",
        "1. Can you predict if a new 3-1-1 call is going to be successfully resolved?  (Note that a call is \n",
        "considered to be successfully resolved if it has a status of ‘resolved’ or ‘closed’) \n",
        "2. Can you predict the mean time to resolution? \n",
        "3. Are there any other interesting insights? \n",
        "\n",
        "Go ahead and impress your manager with your data mining and machine learning skills!  Use any tool of \n",
        "your choice to build your models and demonstrate your insights.   "
      ]
    },
    {
      "cell_type": "markdown",
      "source": [
        "# Part 1"
      ],
      "metadata": {
        "id": "ev6W1aUt63uQ"
      }
    },
    {
      "cell_type": "markdown",
      "metadata": {
        "id": "E4d7EGBU_CTP"
      },
      "source": [
        "## Import"
      ]
    },
    {
      "cell_type": "code",
      "execution_count": 58,
      "metadata": {
        "id": "iVDmBn0X_cjg"
      },
      "outputs": [],
      "source": [
        "import pandas as pd\n",
        "import numpy as np\n",
        "from sklearn.model_selection import train_test_split\n",
        "from sklearn.impute import SimpleImputer\n",
        "from sklearn.linear_model import LogisticRegression\n",
        "from sklearn.preprocessing import LabelEncoder"
      ]
    },
    {
      "cell_type": "code",
      "execution_count": 59,
      "metadata": {
        "colab": {
          "base_uri": "https://localhost:8080/"
        },
        "id": "bOHSvKBQ-b7h",
        "outputId": "6792f172-3afa-4b23-c700-9ad3d3053221"
      },
      "outputs": [
        {
          "output_type": "stream",
          "name": "stderr",
          "text": [
            "/usr/local/lib/python3.8/dist-packages/IPython/core/interactiveshell.py:3326: DtypeWarning: Columns (5) have mixed types.Specify dtype option on import or set low_memory=False.\n",
            "  exec(code_obj, self.user_global_ns, self.user_ns)\n"
          ]
        }
      ],
      "source": [
        "df = pd.read_csv('/content/drive/MyDrive/Data Science for Engineers/austin_311.csv')"
      ]
    },
    {
      "cell_type": "markdown",
      "metadata": {
        "id": "sqhf9N7qANwn"
      },
      "source": [
        "## Observe"
      ]
    },
    {
      "cell_type": "code",
      "execution_count": 60,
      "metadata": {
        "colab": {
          "base_uri": "https://localhost:8080/",
          "height": 528
        },
        "id": "cNhp7rD2ARgF",
        "outputId": "35a10a8e-aab1-43d1-895a-572cd5d538fc"
      },
      "outputs": [
        {
          "output_type": "execute_result",
          "data": {
            "text/plain": [
              "  Service Request (SR) Number                      SR Description  \\\n",
              "0                 19-00090956                Animal - Proper Care   \n",
              "1                 20-00135805                      Tree Issue ROW   \n",
              "2                 20-00052942                      Pothole Repair   \n",
              "3                 19-00467964          ARR Dead Animal Collection   \n",
              "4                 19-00468033  Austin Code - Request Code Officer   \n",
              "\n",
              "  Method Received SR Status                           SR Location  \\\n",
              "0           Phone    Closed   4609 RIBBECKE AVE, AUSTIN, TX 78721   \n",
              "1   Mobile Device    Closed       3521 WEST AVE, AUSTIN, TX 78705   \n",
              "2             Web    Closed  7900 E BEN WHITE BLVD WB, AUSTIN, TX   \n",
              "3           Phone    Closed  7100 METROPOLIS DR, AUSTIN, TX 78744   \n",
              "4           Phone    Closed     2401 GROVE BLVD, AUSTIN, TX 78741   \n",
              "\n",
              "  Street Number        Street Name    City  Zip Code  County  \\\n",
              "0          4609           RIBBECKE  AUSTIN   78721.0  TRAVIS   \n",
              "1          3521               WEST  AUSTIN   78705.0  TRAVIS   \n",
              "2          7900  BEN WHITE BLVD WB  AUSTIN   78741.0  TRAVIS   \n",
              "3          7100         METROPOLIS  AUSTIN   78744.0  TRAVIS   \n",
              "4          2401              GROVE  AUSTIN   78741.0  TRAVIS   \n",
              "\n",
              "   Latitude Coordinate  Longitude Coordinate         (Latitude.Longitude)  \\\n",
              "0            30.280581            -97.685318  (30.28058076, -97.68531793)   \n",
              "1            30.302857            -97.742312  (30.30285681, -97.74231249)   \n",
              "2            30.219838            -97.688440  (30.21983764, -97.68844011)   \n",
              "3            30.206036            -97.702592  (30.20603574, -97.70259216)   \n",
              "4            30.221664            -97.707177  (30.22166434, -97.70717698)   \n",
              "\n",
              "   Council District         Created Date          Closed Date  \n",
              "0               1.0  2019-03-14 03:02:15  2020-11-23 01:41:21  \n",
              "1               9.0  2020-04-07 07:06:32  2020-11-23 12:02:05  \n",
              "2               3.0  2020-02-12 01:55:04  2020-02-12 12:57:35  \n",
              "3               2.0  2019-12-10 02:17:04  2019-12-11 09:57:54  \n",
              "4               3.0  2019-12-10 02:51:24  2019-12-10 03:00:05  "
            ],
            "text/html": [
              "\n",
              "  <div id=\"df-4bf03d04-f75f-42dc-a90c-45ca362854d0\">\n",
              "    <div class=\"colab-df-container\">\n",
              "      <div>\n",
              "<style scoped>\n",
              "    .dataframe tbody tr th:only-of-type {\n",
              "        vertical-align: middle;\n",
              "    }\n",
              "\n",
              "    .dataframe tbody tr th {\n",
              "        vertical-align: top;\n",
              "    }\n",
              "\n",
              "    .dataframe thead th {\n",
              "        text-align: right;\n",
              "    }\n",
              "</style>\n",
              "<table border=\"1\" class=\"dataframe\">\n",
              "  <thead>\n",
              "    <tr style=\"text-align: right;\">\n",
              "      <th></th>\n",
              "      <th>Service Request (SR) Number</th>\n",
              "      <th>SR Description</th>\n",
              "      <th>Method Received</th>\n",
              "      <th>SR Status</th>\n",
              "      <th>SR Location</th>\n",
              "      <th>Street Number</th>\n",
              "      <th>Street Name</th>\n",
              "      <th>City</th>\n",
              "      <th>Zip Code</th>\n",
              "      <th>County</th>\n",
              "      <th>Latitude Coordinate</th>\n",
              "      <th>Longitude Coordinate</th>\n",
              "      <th>(Latitude.Longitude)</th>\n",
              "      <th>Council District</th>\n",
              "      <th>Created Date</th>\n",
              "      <th>Closed Date</th>\n",
              "    </tr>\n",
              "  </thead>\n",
              "  <tbody>\n",
              "    <tr>\n",
              "      <th>0</th>\n",
              "      <td>19-00090956</td>\n",
              "      <td>Animal - Proper Care</td>\n",
              "      <td>Phone</td>\n",
              "      <td>Closed</td>\n",
              "      <td>4609 RIBBECKE AVE, AUSTIN, TX 78721</td>\n",
              "      <td>4609</td>\n",
              "      <td>RIBBECKE</td>\n",
              "      <td>AUSTIN</td>\n",
              "      <td>78721.0</td>\n",
              "      <td>TRAVIS</td>\n",
              "      <td>30.280581</td>\n",
              "      <td>-97.685318</td>\n",
              "      <td>(30.28058076, -97.68531793)</td>\n",
              "      <td>1.0</td>\n",
              "      <td>2019-03-14 03:02:15</td>\n",
              "      <td>2020-11-23 01:41:21</td>\n",
              "    </tr>\n",
              "    <tr>\n",
              "      <th>1</th>\n",
              "      <td>20-00135805</td>\n",
              "      <td>Tree Issue ROW</td>\n",
              "      <td>Mobile Device</td>\n",
              "      <td>Closed</td>\n",
              "      <td>3521 WEST AVE, AUSTIN, TX 78705</td>\n",
              "      <td>3521</td>\n",
              "      <td>WEST</td>\n",
              "      <td>AUSTIN</td>\n",
              "      <td>78705.0</td>\n",
              "      <td>TRAVIS</td>\n",
              "      <td>30.302857</td>\n",
              "      <td>-97.742312</td>\n",
              "      <td>(30.30285681, -97.74231249)</td>\n",
              "      <td>9.0</td>\n",
              "      <td>2020-04-07 07:06:32</td>\n",
              "      <td>2020-11-23 12:02:05</td>\n",
              "    </tr>\n",
              "    <tr>\n",
              "      <th>2</th>\n",
              "      <td>20-00052942</td>\n",
              "      <td>Pothole Repair</td>\n",
              "      <td>Web</td>\n",
              "      <td>Closed</td>\n",
              "      <td>7900 E BEN WHITE BLVD WB, AUSTIN, TX</td>\n",
              "      <td>7900</td>\n",
              "      <td>BEN WHITE BLVD WB</td>\n",
              "      <td>AUSTIN</td>\n",
              "      <td>78741.0</td>\n",
              "      <td>TRAVIS</td>\n",
              "      <td>30.219838</td>\n",
              "      <td>-97.688440</td>\n",
              "      <td>(30.21983764, -97.68844011)</td>\n",
              "      <td>3.0</td>\n",
              "      <td>2020-02-12 01:55:04</td>\n",
              "      <td>2020-02-12 12:57:35</td>\n",
              "    </tr>\n",
              "    <tr>\n",
              "      <th>3</th>\n",
              "      <td>19-00467964</td>\n",
              "      <td>ARR Dead Animal Collection</td>\n",
              "      <td>Phone</td>\n",
              "      <td>Closed</td>\n",
              "      <td>7100 METROPOLIS DR, AUSTIN, TX 78744</td>\n",
              "      <td>7100</td>\n",
              "      <td>METROPOLIS</td>\n",
              "      <td>AUSTIN</td>\n",
              "      <td>78744.0</td>\n",
              "      <td>TRAVIS</td>\n",
              "      <td>30.206036</td>\n",
              "      <td>-97.702592</td>\n",
              "      <td>(30.20603574, -97.70259216)</td>\n",
              "      <td>2.0</td>\n",
              "      <td>2019-12-10 02:17:04</td>\n",
              "      <td>2019-12-11 09:57:54</td>\n",
              "    </tr>\n",
              "    <tr>\n",
              "      <th>4</th>\n",
              "      <td>19-00468033</td>\n",
              "      <td>Austin Code - Request Code Officer</td>\n",
              "      <td>Phone</td>\n",
              "      <td>Closed</td>\n",
              "      <td>2401 GROVE BLVD, AUSTIN, TX 78741</td>\n",
              "      <td>2401</td>\n",
              "      <td>GROVE</td>\n",
              "      <td>AUSTIN</td>\n",
              "      <td>78741.0</td>\n",
              "      <td>TRAVIS</td>\n",
              "      <td>30.221664</td>\n",
              "      <td>-97.707177</td>\n",
              "      <td>(30.22166434, -97.70717698)</td>\n",
              "      <td>3.0</td>\n",
              "      <td>2019-12-10 02:51:24</td>\n",
              "      <td>2019-12-10 03:00:05</td>\n",
              "    </tr>\n",
              "  </tbody>\n",
              "</table>\n",
              "</div>\n",
              "      <button class=\"colab-df-convert\" onclick=\"convertToInteractive('df-4bf03d04-f75f-42dc-a90c-45ca362854d0')\"\n",
              "              title=\"Convert this dataframe to an interactive table.\"\n",
              "              style=\"display:none;\">\n",
              "        \n",
              "  <svg xmlns=\"http://www.w3.org/2000/svg\" height=\"24px\"viewBox=\"0 0 24 24\"\n",
              "       width=\"24px\">\n",
              "    <path d=\"M0 0h24v24H0V0z\" fill=\"none\"/>\n",
              "    <path d=\"M18.56 5.44l.94 2.06.94-2.06 2.06-.94-2.06-.94-.94-2.06-.94 2.06-2.06.94zm-11 1L8.5 8.5l.94-2.06 2.06-.94-2.06-.94L8.5 2.5l-.94 2.06-2.06.94zm10 10l.94 2.06.94-2.06 2.06-.94-2.06-.94-.94-2.06-.94 2.06-2.06.94z\"/><path d=\"M17.41 7.96l-1.37-1.37c-.4-.4-.92-.59-1.43-.59-.52 0-1.04.2-1.43.59L10.3 9.45l-7.72 7.72c-.78.78-.78 2.05 0 2.83L4 21.41c.39.39.9.59 1.41.59.51 0 1.02-.2 1.41-.59l7.78-7.78 2.81-2.81c.8-.78.8-2.07 0-2.86zM5.41 20L4 18.59l7.72-7.72 1.47 1.35L5.41 20z\"/>\n",
              "  </svg>\n",
              "      </button>\n",
              "      \n",
              "  <style>\n",
              "    .colab-df-container {\n",
              "      display:flex;\n",
              "      flex-wrap:wrap;\n",
              "      gap: 12px;\n",
              "    }\n",
              "\n",
              "    .colab-df-convert {\n",
              "      background-color: #E8F0FE;\n",
              "      border: none;\n",
              "      border-radius: 50%;\n",
              "      cursor: pointer;\n",
              "      display: none;\n",
              "      fill: #1967D2;\n",
              "      height: 32px;\n",
              "      padding: 0 0 0 0;\n",
              "      width: 32px;\n",
              "    }\n",
              "\n",
              "    .colab-df-convert:hover {\n",
              "      background-color: #E2EBFA;\n",
              "      box-shadow: 0px 1px 2px rgba(60, 64, 67, 0.3), 0px 1px 3px 1px rgba(60, 64, 67, 0.15);\n",
              "      fill: #174EA6;\n",
              "    }\n",
              "\n",
              "    [theme=dark] .colab-df-convert {\n",
              "      background-color: #3B4455;\n",
              "      fill: #D2E3FC;\n",
              "    }\n",
              "\n",
              "    [theme=dark] .colab-df-convert:hover {\n",
              "      background-color: #434B5C;\n",
              "      box-shadow: 0px 1px 3px 1px rgba(0, 0, 0, 0.15);\n",
              "      filter: drop-shadow(0px 1px 2px rgba(0, 0, 0, 0.3));\n",
              "      fill: #FFFFFF;\n",
              "    }\n",
              "  </style>\n",
              "\n",
              "      <script>\n",
              "        const buttonEl =\n",
              "          document.querySelector('#df-4bf03d04-f75f-42dc-a90c-45ca362854d0 button.colab-df-convert');\n",
              "        buttonEl.style.display =\n",
              "          google.colab.kernel.accessAllowed ? 'block' : 'none';\n",
              "\n",
              "        async function convertToInteractive(key) {\n",
              "          const element = document.querySelector('#df-4bf03d04-f75f-42dc-a90c-45ca362854d0');\n",
              "          const dataTable =\n",
              "            await google.colab.kernel.invokeFunction('convertToInteractive',\n",
              "                                                     [key], {});\n",
              "          if (!dataTable) return;\n",
              "\n",
              "          const docLinkHtml = 'Like what you see? Visit the ' +\n",
              "            '<a target=\"_blank\" href=https://colab.research.google.com/notebooks/data_table.ipynb>data table notebook</a>'\n",
              "            + ' to learn more about interactive tables.';\n",
              "          element.innerHTML = '';\n",
              "          dataTable['output_type'] = 'display_data';\n",
              "          await google.colab.output.renderOutput(dataTable, element);\n",
              "          const docLink = document.createElement('div');\n",
              "          docLink.innerHTML = docLinkHtml;\n",
              "          element.appendChild(docLink);\n",
              "        }\n",
              "      </script>\n",
              "    </div>\n",
              "  </div>\n",
              "  "
            ]
          },
          "metadata": {},
          "execution_count": 60
        }
      ],
      "source": [
        "df.head()"
      ]
    },
    {
      "cell_type": "code",
      "execution_count": 61,
      "metadata": {
        "colab": {
          "base_uri": "https://localhost:8080/"
        },
        "id": "pWFN6G9qAZ7c",
        "outputId": "e868da8c-ee5e-4ad7-cee1-037be2faf847"
      },
      "outputs": [
        {
          "output_type": "execute_result",
          "data": {
            "text/plain": [
              "Index(['Service Request (SR) Number', 'SR Description', 'Method Received',\n",
              "       'SR Status', 'SR Location', 'Street Number', 'Street Name', 'City',\n",
              "       'Zip Code', 'County', 'Latitude Coordinate', 'Longitude Coordinate',\n",
              "       '(Latitude.Longitude)', 'Council District', 'Created Date',\n",
              "       'Closed Date'],\n",
              "      dtype='object')"
            ]
          },
          "metadata": {},
          "execution_count": 61
        }
      ],
      "source": [
        "df.columns"
      ]
    },
    {
      "cell_type": "code",
      "execution_count": 62,
      "metadata": {
        "colab": {
          "base_uri": "https://localhost:8080/",
          "height": 300
        },
        "id": "V-SsYr_nAbps",
        "outputId": "a2b42cbe-fa39-42f6-a049-16475fb7d108"
      },
      "outputs": [
        {
          "output_type": "execute_result",
          "data": {
            "text/plain": [
              "            Zip Code  Latitude Coordinate  Longitude Coordinate  \\\n",
              "count  899447.000000        903257.000000         903257.000000   \n",
              "mean    78729.543079            30.226383            -97.763444   \n",
              "std        26.508744             1.310668              0.406121   \n",
              "min     78610.000000             3.442387           -105.983195   \n",
              "25%     78705.000000            30.232492            -97.773683   \n",
              "50%     78739.000000            30.279274            -97.741555   \n",
              "75%     78749.000000            30.345623            -97.705675   \n",
              "max     78759.000000            30.623016            -97.375982   \n",
              "\n",
              "       Council District  \n",
              "count     858106.000000  \n",
              "mean           5.506708  \n",
              "std            3.025361  \n",
              "min            1.000000  \n",
              "25%            3.000000  \n",
              "50%            5.000000  \n",
              "75%            9.000000  \n",
              "max           10.000000  "
            ],
            "text/html": [
              "\n",
              "  <div id=\"df-67779404-da40-4d50-a84a-a005f344aa12\">\n",
              "    <div class=\"colab-df-container\">\n",
              "      <div>\n",
              "<style scoped>\n",
              "    .dataframe tbody tr th:only-of-type {\n",
              "        vertical-align: middle;\n",
              "    }\n",
              "\n",
              "    .dataframe tbody tr th {\n",
              "        vertical-align: top;\n",
              "    }\n",
              "\n",
              "    .dataframe thead th {\n",
              "        text-align: right;\n",
              "    }\n",
              "</style>\n",
              "<table border=\"1\" class=\"dataframe\">\n",
              "  <thead>\n",
              "    <tr style=\"text-align: right;\">\n",
              "      <th></th>\n",
              "      <th>Zip Code</th>\n",
              "      <th>Latitude Coordinate</th>\n",
              "      <th>Longitude Coordinate</th>\n",
              "      <th>Council District</th>\n",
              "    </tr>\n",
              "  </thead>\n",
              "  <tbody>\n",
              "    <tr>\n",
              "      <th>count</th>\n",
              "      <td>899447.000000</td>\n",
              "      <td>903257.000000</td>\n",
              "      <td>903257.000000</td>\n",
              "      <td>858106.000000</td>\n",
              "    </tr>\n",
              "    <tr>\n",
              "      <th>mean</th>\n",
              "      <td>78729.543079</td>\n",
              "      <td>30.226383</td>\n",
              "      <td>-97.763444</td>\n",
              "      <td>5.506708</td>\n",
              "    </tr>\n",
              "    <tr>\n",
              "      <th>std</th>\n",
              "      <td>26.508744</td>\n",
              "      <td>1.310668</td>\n",
              "      <td>0.406121</td>\n",
              "      <td>3.025361</td>\n",
              "    </tr>\n",
              "    <tr>\n",
              "      <th>min</th>\n",
              "      <td>78610.000000</td>\n",
              "      <td>3.442387</td>\n",
              "      <td>-105.983195</td>\n",
              "      <td>1.000000</td>\n",
              "    </tr>\n",
              "    <tr>\n",
              "      <th>25%</th>\n",
              "      <td>78705.000000</td>\n",
              "      <td>30.232492</td>\n",
              "      <td>-97.773683</td>\n",
              "      <td>3.000000</td>\n",
              "    </tr>\n",
              "    <tr>\n",
              "      <th>50%</th>\n",
              "      <td>78739.000000</td>\n",
              "      <td>30.279274</td>\n",
              "      <td>-97.741555</td>\n",
              "      <td>5.000000</td>\n",
              "    </tr>\n",
              "    <tr>\n",
              "      <th>75%</th>\n",
              "      <td>78749.000000</td>\n",
              "      <td>30.345623</td>\n",
              "      <td>-97.705675</td>\n",
              "      <td>9.000000</td>\n",
              "    </tr>\n",
              "    <tr>\n",
              "      <th>max</th>\n",
              "      <td>78759.000000</td>\n",
              "      <td>30.623016</td>\n",
              "      <td>-97.375982</td>\n",
              "      <td>10.000000</td>\n",
              "    </tr>\n",
              "  </tbody>\n",
              "</table>\n",
              "</div>\n",
              "      <button class=\"colab-df-convert\" onclick=\"convertToInteractive('df-67779404-da40-4d50-a84a-a005f344aa12')\"\n",
              "              title=\"Convert this dataframe to an interactive table.\"\n",
              "              style=\"display:none;\">\n",
              "        \n",
              "  <svg xmlns=\"http://www.w3.org/2000/svg\" height=\"24px\"viewBox=\"0 0 24 24\"\n",
              "       width=\"24px\">\n",
              "    <path d=\"M0 0h24v24H0V0z\" fill=\"none\"/>\n",
              "    <path d=\"M18.56 5.44l.94 2.06.94-2.06 2.06-.94-2.06-.94-.94-2.06-.94 2.06-2.06.94zm-11 1L8.5 8.5l.94-2.06 2.06-.94-2.06-.94L8.5 2.5l-.94 2.06-2.06.94zm10 10l.94 2.06.94-2.06 2.06-.94-2.06-.94-.94-2.06-.94 2.06-2.06.94z\"/><path d=\"M17.41 7.96l-1.37-1.37c-.4-.4-.92-.59-1.43-.59-.52 0-1.04.2-1.43.59L10.3 9.45l-7.72 7.72c-.78.78-.78 2.05 0 2.83L4 21.41c.39.39.9.59 1.41.59.51 0 1.02-.2 1.41-.59l7.78-7.78 2.81-2.81c.8-.78.8-2.07 0-2.86zM5.41 20L4 18.59l7.72-7.72 1.47 1.35L5.41 20z\"/>\n",
              "  </svg>\n",
              "      </button>\n",
              "      \n",
              "  <style>\n",
              "    .colab-df-container {\n",
              "      display:flex;\n",
              "      flex-wrap:wrap;\n",
              "      gap: 12px;\n",
              "    }\n",
              "\n",
              "    .colab-df-convert {\n",
              "      background-color: #E8F0FE;\n",
              "      border: none;\n",
              "      border-radius: 50%;\n",
              "      cursor: pointer;\n",
              "      display: none;\n",
              "      fill: #1967D2;\n",
              "      height: 32px;\n",
              "      padding: 0 0 0 0;\n",
              "      width: 32px;\n",
              "    }\n",
              "\n",
              "    .colab-df-convert:hover {\n",
              "      background-color: #E2EBFA;\n",
              "      box-shadow: 0px 1px 2px rgba(60, 64, 67, 0.3), 0px 1px 3px 1px rgba(60, 64, 67, 0.15);\n",
              "      fill: #174EA6;\n",
              "    }\n",
              "\n",
              "    [theme=dark] .colab-df-convert {\n",
              "      background-color: #3B4455;\n",
              "      fill: #D2E3FC;\n",
              "    }\n",
              "\n",
              "    [theme=dark] .colab-df-convert:hover {\n",
              "      background-color: #434B5C;\n",
              "      box-shadow: 0px 1px 3px 1px rgba(0, 0, 0, 0.15);\n",
              "      filter: drop-shadow(0px 1px 2px rgba(0, 0, 0, 0.3));\n",
              "      fill: #FFFFFF;\n",
              "    }\n",
              "  </style>\n",
              "\n",
              "      <script>\n",
              "        const buttonEl =\n",
              "          document.querySelector('#df-67779404-da40-4d50-a84a-a005f344aa12 button.colab-df-convert');\n",
              "        buttonEl.style.display =\n",
              "          google.colab.kernel.accessAllowed ? 'block' : 'none';\n",
              "\n",
              "        async function convertToInteractive(key) {\n",
              "          const element = document.querySelector('#df-67779404-da40-4d50-a84a-a005f344aa12');\n",
              "          const dataTable =\n",
              "            await google.colab.kernel.invokeFunction('convertToInteractive',\n",
              "                                                     [key], {});\n",
              "          if (!dataTable) return;\n",
              "\n",
              "          const docLinkHtml = 'Like what you see? Visit the ' +\n",
              "            '<a target=\"_blank\" href=https://colab.research.google.com/notebooks/data_table.ipynb>data table notebook</a>'\n",
              "            + ' to learn more about interactive tables.';\n",
              "          element.innerHTML = '';\n",
              "          dataTable['output_type'] = 'display_data';\n",
              "          await google.colab.output.renderOutput(dataTable, element);\n",
              "          const docLink = document.createElement('div');\n",
              "          docLink.innerHTML = docLinkHtml;\n",
              "          element.appendChild(docLink);\n",
              "        }\n",
              "      </script>\n",
              "    </div>\n",
              "  </div>\n",
              "  "
            ]
          },
          "metadata": {},
          "execution_count": 62
        }
      ],
      "source": [
        "df.describe()"
      ]
    },
    {
      "cell_type": "code",
      "execution_count": 63,
      "metadata": {
        "colab": {
          "base_uri": "https://localhost:8080/"
        },
        "id": "6ttaCT88Atli",
        "outputId": "4256c6b0-c2cf-44ac-e9d4-7f69b5f8b91a"
      },
      "outputs": [
        {
          "output_type": "execute_result",
          "data": {
            "text/plain": [
              "Service Request (SR) Number         0\n",
              "SR Description                      0\n",
              "Method Received                     0\n",
              "SR Status                           0\n",
              "SR Location                      9044\n",
              "Street Number                  178320\n",
              "Street Name                      9059\n",
              "City                            12110\n",
              "Zip Code                        12854\n",
              "County                          17726\n",
              "Latitude Coordinate              9044\n",
              "Longitude Coordinate             9044\n",
              "(Latitude.Longitude)             9044\n",
              "Council District                54195\n",
              "Created Date                        0\n",
              "Closed Date                      1960\n",
              "dtype: int64"
            ]
          },
          "metadata": {},
          "execution_count": 63
        }
      ],
      "source": [
        "df.isna().sum()"
      ]
    },
    {
      "cell_type": "code",
      "execution_count": 64,
      "metadata": {
        "colab": {
          "base_uri": "https://localhost:8080/"
        },
        "id": "R0EKOAcYoNHG",
        "outputId": "9310a929-4c33-48d1-bd9e-7a980360ea61"
      },
      "outputs": [
        {
          "output_type": "execute_result",
          "data": {
            "text/plain": [
              "Service Request (SR) Number     object\n",
              "SR Description                  object\n",
              "Method Received                 object\n",
              "SR Status                       object\n",
              "SR Location                     object\n",
              "Street Number                   object\n",
              "Street Name                     object\n",
              "City                            object\n",
              "Zip Code                       float64\n",
              "County                          object\n",
              "Latitude Coordinate            float64\n",
              "Longitude Coordinate           float64\n",
              "(Latitude.Longitude)            object\n",
              "Council District               float64\n",
              "Created Date                    object\n",
              "Closed Date                     object\n",
              "dtype: object"
            ]
          },
          "metadata": {},
          "execution_count": 64
        }
      ],
      "source": [
        "df.dtypes"
      ]
    },
    {
      "cell_type": "code",
      "execution_count": 65,
      "metadata": {
        "colab": {
          "base_uri": "https://localhost:8080/"
        },
        "id": "8L4ljpVS2wZF",
        "outputId": "c5c87c00-e489-460f-bf76-618b5652851d"
      },
      "outputs": [
        {
          "output_type": "execute_result",
          "data": {
            "text/plain": [
              "(912301, 16)"
            ]
          },
          "metadata": {},
          "execution_count": 65
        }
      ],
      "source": [
        "df.shape"
      ]
    },
    {
      "cell_type": "markdown",
      "metadata": {
        "id": "xmyh32PYA7qh"
      },
      "source": [
        "## Preprocess"
      ]
    },
    {
      "cell_type": "markdown",
      "metadata": {
        "id": "LTF4YKKvBLGx"
      },
      "source": [
        "### Impute mean in numerical columns"
      ]
    },
    {
      "cell_type": "code",
      "execution_count": 66,
      "metadata": {
        "colab": {
          "base_uri": "https://localhost:8080/"
        },
        "id": "4tvO-c88A-NU",
        "outputId": "829c449f-5894-4784-e3bf-b5c068c16a0b"
      },
      "outputs": [
        {
          "output_type": "stream",
          "name": "stdout",
          "text": [
            "[['Zip Code', 'Latitude Coordinate', 'Longitude Coordinate', 'Council District']]\n"
          ]
        }
      ],
      "source": [
        "cols_null = [col for col in df.columns if df[col].isna().any() and df[col].dtype in ['int64', 'float64']]\n",
        "print([cols_null])"
      ]
    },
    {
      "cell_type": "code",
      "execution_count": 67,
      "metadata": {
        "colab": {
          "base_uri": "https://localhost:8080/"
        },
        "id": "L4h5R53KSLQm",
        "outputId": "9f0fe686-d6a5-4132-b216-8d00318b92b8"
      },
      "outputs": [
        {
          "output_type": "execute_result",
          "data": {
            "text/plain": [
              "Zip Code                0\n",
              "Latitude Coordinate     0\n",
              "Longitude Coordinate    0\n",
              "Council District        0\n",
              "dtype: int64"
            ]
          },
          "metadata": {},
          "execution_count": 67
        }
      ],
      "source": [
        "# Use simple imputer\n",
        "imputer = SimpleImputer(missing_values=np.NaN, strategy='mean')\n",
        "df[cols_null] = imputer.fit_transform(df[cols_null])\n",
        "\n",
        "df[cols_null].isna().sum()"
      ]
    },
    {
      "cell_type": "markdown",
      "metadata": {
        "id": "y5c5ZO3em3nf"
      },
      "source": [
        "### Impute most frequent value in categorical columns"
      ]
    },
    {
      "cell_type": "markdown",
      "metadata": {
        "id": "xlfCKJv50-G_"
      },
      "source": [
        "Check for columns with many unique values"
      ]
    },
    {
      "cell_type": "code",
      "execution_count": 68,
      "metadata": {
        "colab": {
          "base_uri": "https://localhost:8080/"
        },
        "id": "eDqqqA0tnfFw",
        "outputId": "a234da3a-b713-4b7e-a6ca-7336b1780e18"
      },
      "outputs": [
        {
          "output_type": "execute_result",
          "data": {
            "text/plain": [
              "['Service Request (SR) Number',\n",
              " 'SR Description',\n",
              " 'Method Received',\n",
              " 'SR Status',\n",
              " 'SR Location',\n",
              " 'Street Number',\n",
              " 'Street Name',\n",
              " 'City',\n",
              " '(Latitude.Longitude)',\n",
              " 'Created Date',\n",
              " 'Closed Date']"
            ]
          },
          "metadata": {},
          "execution_count": 68
        }
      ],
      "source": [
        "[col for col in df.columns if df[col].dtype in ['object'] and df[col].nunique() > 10]"
      ]
    },
    {
      "cell_type": "markdown",
      "metadata": {
        "id": "NyN_kKpN0pl0"
      },
      "source": [
        "Check unique values for certain features to see if they can be simplified"
      ]
    },
    {
      "cell_type": "code",
      "execution_count": 69,
      "metadata": {
        "colab": {
          "base_uri": "https://localhost:8080/"
        },
        "id": "dA618sSSsWKM",
        "outputId": "e8b13ac1-583d-4fc7-d98f-940074657195"
      },
      "outputs": [
        {
          "output_type": "execute_result",
          "data": {
            "text/plain": [
              "array(['Closed', 'Duplicate (closed)', 'Resolved', 'Open',\n",
              "       'CancelledTesting', 'Duplicate (open)', 'New', 'Work In Progress',\n",
              "       'Closed -Incomplete', 'TO BE DELETED', 'Incomplete',\n",
              "       'Closed -Incomplete Information', 'Transferred'], dtype=object)"
            ]
          },
          "metadata": {},
          "execution_count": 69
        }
      ],
      "source": [
        "df['SR Status'].unique()"
      ]
    },
    {
      "cell_type": "code",
      "execution_count": 70,
      "metadata": {
        "colab": {
          "base_uri": "https://localhost:8080/"
        },
        "id": "oKwBP00sswo7",
        "outputId": "49aa7147-70e2-4f2a-fca8-8a768020ef96"
      },
      "outputs": [
        {
          "output_type": "execute_result",
          "data": {
            "text/plain": [
              "array([1, 0])"
            ]
          },
          "metadata": {},
          "execution_count": 70
        }
      ],
      "source": [
        "# Clean up SR Status into two unique values\n",
        "\n",
        "df['SR Status'] = df['SR Status'].replace(['Closed', 'Duplicate (closed)', 'Resolved', 'CancelledTesting', 'Closed -Incomplete',\n",
        "                                           'TO BE DELETED', 'Closed -Incomplete Information', 'Transferred'], \n",
        "                                          1)\n",
        "df['SR Status'] = df['SR Status'].replace(['Open', 'Duplicate (open)', 'New', 'Work In Progress', 'Incomplete'], \n",
        "                                          0)\n",
        "\n",
        "df['SR Status'].unique()"
      ]
    },
    {
      "cell_type": "code",
      "execution_count": 71,
      "metadata": {
        "colab": {
          "base_uri": "https://localhost:8080/"
        },
        "id": "a5fVSZxG1hOQ",
        "outputId": "0373e540-1ff1-4dc8-d9fb-f944ddf0dc3b"
      },
      "outputs": [
        {
          "output_type": "execute_result",
          "data": {
            "text/plain": [
              "134"
            ]
          },
          "metadata": {},
          "execution_count": 71
        }
      ],
      "source": [
        "df['City'].nunique()"
      ]
    },
    {
      "cell_type": "code",
      "execution_count": 72,
      "metadata": {
        "colab": {
          "base_uri": "https://localhost:8080/"
        },
        "id": "fDDwT7lL1l2D",
        "outputId": "58ea919d-15e3-4aec-b64a-1e3346f5dc64"
      },
      "outputs": [
        {
          "output_type": "execute_result",
          "data": {
            "text/plain": [
              "143"
            ]
          },
          "metadata": {},
          "execution_count": 72
        }
      ],
      "source": [
        "df['SR Description'].nunique()"
      ]
    },
    {
      "cell_type": "code",
      "execution_count": 73,
      "metadata": {
        "colab": {
          "base_uri": "https://localhost:8080/"
        },
        "id": "C5leXZfH17_D",
        "outputId": "1377789d-d40f-42a4-a406-808e24067654"
      },
      "outputs": [
        {
          "output_type": "execute_result",
          "data": {
            "text/plain": [
              "38077"
            ]
          },
          "metadata": {},
          "execution_count": 73
        }
      ],
      "source": [
        "df['Street Name'].nunique()"
      ]
    },
    {
      "cell_type": "code",
      "execution_count": 74,
      "metadata": {
        "colab": {
          "base_uri": "https://localhost:8080/"
        },
        "id": "0PC6eDmG2IhZ",
        "outputId": "ee323388-43a0-418d-87af-53e51affb15f"
      },
      "outputs": [
        {
          "output_type": "execute_result",
          "data": {
            "text/plain": [
              "6"
            ]
          },
          "metadata": {},
          "execution_count": 74
        }
      ],
      "source": [
        "df['County'].nunique()"
      ]
    },
    {
      "cell_type": "code",
      "execution_count": 75,
      "metadata": {
        "colab": {
          "base_uri": "https://localhost:8080/"
        },
        "id": "qQgzXNIS4Kw4",
        "outputId": "38619993-baa8-43a4-c6eb-ff52fb273ab1"
      },
      "outputs": [
        {
          "output_type": "execute_result",
          "data": {
            "text/plain": [
              "18"
            ]
          },
          "metadata": {},
          "execution_count": 75
        }
      ],
      "source": [
        "df['Method Received'].nunique()"
      ]
    },
    {
      "cell_type": "markdown",
      "metadata": {
        "id": "S56awSBg1bMI"
      },
      "source": [
        "Get all categorical columns"
      ]
    },
    {
      "cell_type": "code",
      "execution_count": 76,
      "metadata": {
        "colab": {
          "base_uri": "https://localhost:8080/"
        },
        "id": "IYVv61aKm-WB",
        "outputId": "2ec7d4ce-9326-4544-8ece-4078df242baa"
      },
      "outputs": [
        {
          "output_type": "execute_result",
          "data": {
            "text/plain": [
              "['Service Request (SR) Number',\n",
              " 'SR Description',\n",
              " 'Method Received',\n",
              " 'SR Location',\n",
              " 'Street Number',\n",
              " 'Street Name',\n",
              " 'City',\n",
              " 'County',\n",
              " '(Latitude.Longitude)',\n",
              " 'Created Date',\n",
              " 'Closed Date']"
            ]
          },
          "metadata": {},
          "execution_count": 76
        }
      ],
      "source": [
        "cols_cat = [col for col in df.columns if df[col].dtype in ['object']]\n",
        "cols_cat"
      ]
    },
    {
      "cell_type": "markdown",
      "metadata": {
        "id": "IPJjOocL1TVw"
      },
      "source": [
        "Impute values"
      ]
    },
    {
      "cell_type": "code",
      "execution_count": 77,
      "metadata": {
        "colab": {
          "base_uri": "https://localhost:8080/"
        },
        "id": "NMUrnv7oqlqn",
        "outputId": "51c03a1b-db6f-4895-c7d9-2383b74cc672"
      },
      "outputs": [
        {
          "output_type": "execute_result",
          "data": {
            "text/plain": [
              "Service Request (SR) Number    0\n",
              "SR Description                 0\n",
              "Method Received                0\n",
              "SR Location                    0\n",
              "Street Number                  0\n",
              "Street Name                    0\n",
              "City                           0\n",
              "County                         0\n",
              "(Latitude.Longitude)           0\n",
              "Created Date                   0\n",
              "Closed Date                    0\n",
              "dtype: int64"
            ]
          },
          "metadata": {},
          "execution_count": 77
        }
      ],
      "source": [
        "imputer = SimpleImputer(missing_values=np.NaN, strategy='most_frequent')\n",
        "df[cols_cat] = imputer.fit_transform(df[cols_cat])\n",
        "\n",
        "df[cols_cat].isna().sum()"
      ]
    },
    {
      "cell_type": "markdown",
      "metadata": {
        "id": "WANfqcdYrhP8"
      },
      "source": [
        "### Create dummy variables"
      ]
    },
    {
      "cell_type": "code",
      "execution_count": 78,
      "metadata": {
        "colab": {
          "base_uri": "https://localhost:8080/",
          "height": 206
        },
        "id": "yu3P1s5QPdR6",
        "outputId": "38ef922d-29de-45d2-ae57-8da443f7861e"
      },
      "outputs": [
        {
          "output_type": "execute_result",
          "data": {
            "text/plain": [
              "                       SR Description Method Received    City  Zip Code  \\\n",
              "0                Animal - Proper Care           Phone  AUSTIN   78721.0   \n",
              "1                      Tree Issue ROW   Mobile Device  AUSTIN   78705.0   \n",
              "2                      Pothole Repair             Web  AUSTIN   78741.0   \n",
              "3          ARR Dead Animal Collection           Phone  AUSTIN   78744.0   \n",
              "4  Austin Code - Request Code Officer           Phone  AUSTIN   78741.0   \n",
              "\n",
              "   County  Latitude Coordinate  Longitude Coordinate  Council District  \n",
              "0  TRAVIS            30.280581            -97.685318               1.0  \n",
              "1  TRAVIS            30.302857            -97.742312               9.0  \n",
              "2  TRAVIS            30.219838            -97.688440               3.0  \n",
              "3  TRAVIS            30.206036            -97.702592               2.0  \n",
              "4  TRAVIS            30.221664            -97.707177               3.0  "
            ],
            "text/html": [
              "\n",
              "  <div id=\"df-000fc2af-3c52-474a-941a-142c28a54b29\">\n",
              "    <div class=\"colab-df-container\">\n",
              "      <div>\n",
              "<style scoped>\n",
              "    .dataframe tbody tr th:only-of-type {\n",
              "        vertical-align: middle;\n",
              "    }\n",
              "\n",
              "    .dataframe tbody tr th {\n",
              "        vertical-align: top;\n",
              "    }\n",
              "\n",
              "    .dataframe thead th {\n",
              "        text-align: right;\n",
              "    }\n",
              "</style>\n",
              "<table border=\"1\" class=\"dataframe\">\n",
              "  <thead>\n",
              "    <tr style=\"text-align: right;\">\n",
              "      <th></th>\n",
              "      <th>SR Description</th>\n",
              "      <th>Method Received</th>\n",
              "      <th>City</th>\n",
              "      <th>Zip Code</th>\n",
              "      <th>County</th>\n",
              "      <th>Latitude Coordinate</th>\n",
              "      <th>Longitude Coordinate</th>\n",
              "      <th>Council District</th>\n",
              "    </tr>\n",
              "  </thead>\n",
              "  <tbody>\n",
              "    <tr>\n",
              "      <th>0</th>\n",
              "      <td>Animal - Proper Care</td>\n",
              "      <td>Phone</td>\n",
              "      <td>AUSTIN</td>\n",
              "      <td>78721.0</td>\n",
              "      <td>TRAVIS</td>\n",
              "      <td>30.280581</td>\n",
              "      <td>-97.685318</td>\n",
              "      <td>1.0</td>\n",
              "    </tr>\n",
              "    <tr>\n",
              "      <th>1</th>\n",
              "      <td>Tree Issue ROW</td>\n",
              "      <td>Mobile Device</td>\n",
              "      <td>AUSTIN</td>\n",
              "      <td>78705.0</td>\n",
              "      <td>TRAVIS</td>\n",
              "      <td>30.302857</td>\n",
              "      <td>-97.742312</td>\n",
              "      <td>9.0</td>\n",
              "    </tr>\n",
              "    <tr>\n",
              "      <th>2</th>\n",
              "      <td>Pothole Repair</td>\n",
              "      <td>Web</td>\n",
              "      <td>AUSTIN</td>\n",
              "      <td>78741.0</td>\n",
              "      <td>TRAVIS</td>\n",
              "      <td>30.219838</td>\n",
              "      <td>-97.688440</td>\n",
              "      <td>3.0</td>\n",
              "    </tr>\n",
              "    <tr>\n",
              "      <th>3</th>\n",
              "      <td>ARR Dead Animal Collection</td>\n",
              "      <td>Phone</td>\n",
              "      <td>AUSTIN</td>\n",
              "      <td>78744.0</td>\n",
              "      <td>TRAVIS</td>\n",
              "      <td>30.206036</td>\n",
              "      <td>-97.702592</td>\n",
              "      <td>2.0</td>\n",
              "    </tr>\n",
              "    <tr>\n",
              "      <th>4</th>\n",
              "      <td>Austin Code - Request Code Officer</td>\n",
              "      <td>Phone</td>\n",
              "      <td>AUSTIN</td>\n",
              "      <td>78741.0</td>\n",
              "      <td>TRAVIS</td>\n",
              "      <td>30.221664</td>\n",
              "      <td>-97.707177</td>\n",
              "      <td>3.0</td>\n",
              "    </tr>\n",
              "  </tbody>\n",
              "</table>\n",
              "</div>\n",
              "      <button class=\"colab-df-convert\" onclick=\"convertToInteractive('df-000fc2af-3c52-474a-941a-142c28a54b29')\"\n",
              "              title=\"Convert this dataframe to an interactive table.\"\n",
              "              style=\"display:none;\">\n",
              "        \n",
              "  <svg xmlns=\"http://www.w3.org/2000/svg\" height=\"24px\"viewBox=\"0 0 24 24\"\n",
              "       width=\"24px\">\n",
              "    <path d=\"M0 0h24v24H0V0z\" fill=\"none\"/>\n",
              "    <path d=\"M18.56 5.44l.94 2.06.94-2.06 2.06-.94-2.06-.94-.94-2.06-.94 2.06-2.06.94zm-11 1L8.5 8.5l.94-2.06 2.06-.94-2.06-.94L8.5 2.5l-.94 2.06-2.06.94zm10 10l.94 2.06.94-2.06 2.06-.94-2.06-.94-.94-2.06-.94 2.06-2.06.94z\"/><path d=\"M17.41 7.96l-1.37-1.37c-.4-.4-.92-.59-1.43-.59-.52 0-1.04.2-1.43.59L10.3 9.45l-7.72 7.72c-.78.78-.78 2.05 0 2.83L4 21.41c.39.39.9.59 1.41.59.51 0 1.02-.2 1.41-.59l7.78-7.78 2.81-2.81c.8-.78.8-2.07 0-2.86zM5.41 20L4 18.59l7.72-7.72 1.47 1.35L5.41 20z\"/>\n",
              "  </svg>\n",
              "      </button>\n",
              "      \n",
              "  <style>\n",
              "    .colab-df-container {\n",
              "      display:flex;\n",
              "      flex-wrap:wrap;\n",
              "      gap: 12px;\n",
              "    }\n",
              "\n",
              "    .colab-df-convert {\n",
              "      background-color: #E8F0FE;\n",
              "      border: none;\n",
              "      border-radius: 50%;\n",
              "      cursor: pointer;\n",
              "      display: none;\n",
              "      fill: #1967D2;\n",
              "      height: 32px;\n",
              "      padding: 0 0 0 0;\n",
              "      width: 32px;\n",
              "    }\n",
              "\n",
              "    .colab-df-convert:hover {\n",
              "      background-color: #E2EBFA;\n",
              "      box-shadow: 0px 1px 2px rgba(60, 64, 67, 0.3), 0px 1px 3px 1px rgba(60, 64, 67, 0.15);\n",
              "      fill: #174EA6;\n",
              "    }\n",
              "\n",
              "    [theme=dark] .colab-df-convert {\n",
              "      background-color: #3B4455;\n",
              "      fill: #D2E3FC;\n",
              "    }\n",
              "\n",
              "    [theme=dark] .colab-df-convert:hover {\n",
              "      background-color: #434B5C;\n",
              "      box-shadow: 0px 1px 3px 1px rgba(0, 0, 0, 0.15);\n",
              "      filter: drop-shadow(0px 1px 2px rgba(0, 0, 0, 0.3));\n",
              "      fill: #FFFFFF;\n",
              "    }\n",
              "  </style>\n",
              "\n",
              "      <script>\n",
              "        const buttonEl =\n",
              "          document.querySelector('#df-000fc2af-3c52-474a-941a-142c28a54b29 button.colab-df-convert');\n",
              "        buttonEl.style.display =\n",
              "          google.colab.kernel.accessAllowed ? 'block' : 'none';\n",
              "\n",
              "        async function convertToInteractive(key) {\n",
              "          const element = document.querySelector('#df-000fc2af-3c52-474a-941a-142c28a54b29');\n",
              "          const dataTable =\n",
              "            await google.colab.kernel.invokeFunction('convertToInteractive',\n",
              "                                                     [key], {});\n",
              "          if (!dataTable) return;\n",
              "\n",
              "          const docLinkHtml = 'Like what you see? Visit the ' +\n",
              "            '<a target=\"_blank\" href=https://colab.research.google.com/notebooks/data_table.ipynb>data table notebook</a>'\n",
              "            + ' to learn more about interactive tables.';\n",
              "          element.innerHTML = '';\n",
              "          dataTable['output_type'] = 'display_data';\n",
              "          await google.colab.output.renderOutput(dataTable, element);\n",
              "          const docLink = document.createElement('div');\n",
              "          docLink.innerHTML = docLinkHtml;\n",
              "          element.appendChild(docLink);\n",
              "        }\n",
              "      </script>\n",
              "    </div>\n",
              "  </div>\n",
              "  "
            ]
          },
          "metadata": {},
          "execution_count": 78
        }
      ],
      "source": [
        "cols_to_drop = [col for col in df.columns if df[col].dtype in ['object'] and df[col].nunique() > 1000]\n",
        "\n",
        "x = df.drop(cols_to_drop, axis=1).drop('SR Status', axis=1)\n",
        "#x = pd.get_dummies(x, drop_first=True)\n",
        "y = df['SR Status']\n",
        "\n",
        "x.head()"
      ]
    },
    {
      "cell_type": "code",
      "source": [
        "cols = [col for col in x.columns if x[col].dtype in ['object']]\n",
        "labelencoder = LabelEncoder()\n",
        "\n",
        "for col in cols:\n",
        "  x[col] = labelencoder.fit_transform(x[col])\n",
        "\n",
        "x.head()"
      ],
      "metadata": {
        "colab": {
          "base_uri": "https://localhost:8080/",
          "height": 206
        },
        "id": "AGjgit6M4grU",
        "outputId": "32e90d66-66d3-49e3-c002-636fc8d4c292"
      },
      "execution_count": 79,
      "outputs": [
        {
          "output_type": "execute_result",
          "data": {
            "text/plain": [
              "   SR Description  Method Received  City  Zip Code  County  \\\n",
              "0              12               12     2   78721.0       4   \n",
              "1             130                9     2   78705.0       4   \n",
              "2              92               17     2   78741.0       4   \n",
              "3               2               12     2   78744.0       4   \n",
              "4              22               12     2   78741.0       4   \n",
              "\n",
              "   Latitude Coordinate  Longitude Coordinate  Council District  \n",
              "0            30.280581            -97.685318               1.0  \n",
              "1            30.302857            -97.742312               9.0  \n",
              "2            30.219838            -97.688440               3.0  \n",
              "3            30.206036            -97.702592               2.0  \n",
              "4            30.221664            -97.707177               3.0  "
            ],
            "text/html": [
              "\n",
              "  <div id=\"df-be2a0b86-9f85-4ac1-ac26-990a1f170827\">\n",
              "    <div class=\"colab-df-container\">\n",
              "      <div>\n",
              "<style scoped>\n",
              "    .dataframe tbody tr th:only-of-type {\n",
              "        vertical-align: middle;\n",
              "    }\n",
              "\n",
              "    .dataframe tbody tr th {\n",
              "        vertical-align: top;\n",
              "    }\n",
              "\n",
              "    .dataframe thead th {\n",
              "        text-align: right;\n",
              "    }\n",
              "</style>\n",
              "<table border=\"1\" class=\"dataframe\">\n",
              "  <thead>\n",
              "    <tr style=\"text-align: right;\">\n",
              "      <th></th>\n",
              "      <th>SR Description</th>\n",
              "      <th>Method Received</th>\n",
              "      <th>City</th>\n",
              "      <th>Zip Code</th>\n",
              "      <th>County</th>\n",
              "      <th>Latitude Coordinate</th>\n",
              "      <th>Longitude Coordinate</th>\n",
              "      <th>Council District</th>\n",
              "    </tr>\n",
              "  </thead>\n",
              "  <tbody>\n",
              "    <tr>\n",
              "      <th>0</th>\n",
              "      <td>12</td>\n",
              "      <td>12</td>\n",
              "      <td>2</td>\n",
              "      <td>78721.0</td>\n",
              "      <td>4</td>\n",
              "      <td>30.280581</td>\n",
              "      <td>-97.685318</td>\n",
              "      <td>1.0</td>\n",
              "    </tr>\n",
              "    <tr>\n",
              "      <th>1</th>\n",
              "      <td>130</td>\n",
              "      <td>9</td>\n",
              "      <td>2</td>\n",
              "      <td>78705.0</td>\n",
              "      <td>4</td>\n",
              "      <td>30.302857</td>\n",
              "      <td>-97.742312</td>\n",
              "      <td>9.0</td>\n",
              "    </tr>\n",
              "    <tr>\n",
              "      <th>2</th>\n",
              "      <td>92</td>\n",
              "      <td>17</td>\n",
              "      <td>2</td>\n",
              "      <td>78741.0</td>\n",
              "      <td>4</td>\n",
              "      <td>30.219838</td>\n",
              "      <td>-97.688440</td>\n",
              "      <td>3.0</td>\n",
              "    </tr>\n",
              "    <tr>\n",
              "      <th>3</th>\n",
              "      <td>2</td>\n",
              "      <td>12</td>\n",
              "      <td>2</td>\n",
              "      <td>78744.0</td>\n",
              "      <td>4</td>\n",
              "      <td>30.206036</td>\n",
              "      <td>-97.702592</td>\n",
              "      <td>2.0</td>\n",
              "    </tr>\n",
              "    <tr>\n",
              "      <th>4</th>\n",
              "      <td>22</td>\n",
              "      <td>12</td>\n",
              "      <td>2</td>\n",
              "      <td>78741.0</td>\n",
              "      <td>4</td>\n",
              "      <td>30.221664</td>\n",
              "      <td>-97.707177</td>\n",
              "      <td>3.0</td>\n",
              "    </tr>\n",
              "  </tbody>\n",
              "</table>\n",
              "</div>\n",
              "      <button class=\"colab-df-convert\" onclick=\"convertToInteractive('df-be2a0b86-9f85-4ac1-ac26-990a1f170827')\"\n",
              "              title=\"Convert this dataframe to an interactive table.\"\n",
              "              style=\"display:none;\">\n",
              "        \n",
              "  <svg xmlns=\"http://www.w3.org/2000/svg\" height=\"24px\"viewBox=\"0 0 24 24\"\n",
              "       width=\"24px\">\n",
              "    <path d=\"M0 0h24v24H0V0z\" fill=\"none\"/>\n",
              "    <path d=\"M18.56 5.44l.94 2.06.94-2.06 2.06-.94-2.06-.94-.94-2.06-.94 2.06-2.06.94zm-11 1L8.5 8.5l.94-2.06 2.06-.94-2.06-.94L8.5 2.5l-.94 2.06-2.06.94zm10 10l.94 2.06.94-2.06 2.06-.94-2.06-.94-.94-2.06-.94 2.06-2.06.94z\"/><path d=\"M17.41 7.96l-1.37-1.37c-.4-.4-.92-.59-1.43-.59-.52 0-1.04.2-1.43.59L10.3 9.45l-7.72 7.72c-.78.78-.78 2.05 0 2.83L4 21.41c.39.39.9.59 1.41.59.51 0 1.02-.2 1.41-.59l7.78-7.78 2.81-2.81c.8-.78.8-2.07 0-2.86zM5.41 20L4 18.59l7.72-7.72 1.47 1.35L5.41 20z\"/>\n",
              "  </svg>\n",
              "      </button>\n",
              "      \n",
              "  <style>\n",
              "    .colab-df-container {\n",
              "      display:flex;\n",
              "      flex-wrap:wrap;\n",
              "      gap: 12px;\n",
              "    }\n",
              "\n",
              "    .colab-df-convert {\n",
              "      background-color: #E8F0FE;\n",
              "      border: none;\n",
              "      border-radius: 50%;\n",
              "      cursor: pointer;\n",
              "      display: none;\n",
              "      fill: #1967D2;\n",
              "      height: 32px;\n",
              "      padding: 0 0 0 0;\n",
              "      width: 32px;\n",
              "    }\n",
              "\n",
              "    .colab-df-convert:hover {\n",
              "      background-color: #E2EBFA;\n",
              "      box-shadow: 0px 1px 2px rgba(60, 64, 67, 0.3), 0px 1px 3px 1px rgba(60, 64, 67, 0.15);\n",
              "      fill: #174EA6;\n",
              "    }\n",
              "\n",
              "    [theme=dark] .colab-df-convert {\n",
              "      background-color: #3B4455;\n",
              "      fill: #D2E3FC;\n",
              "    }\n",
              "\n",
              "    [theme=dark] .colab-df-convert:hover {\n",
              "      background-color: #434B5C;\n",
              "      box-shadow: 0px 1px 3px 1px rgba(0, 0, 0, 0.15);\n",
              "      filter: drop-shadow(0px 1px 2px rgba(0, 0, 0, 0.3));\n",
              "      fill: #FFFFFF;\n",
              "    }\n",
              "  </style>\n",
              "\n",
              "      <script>\n",
              "        const buttonEl =\n",
              "          document.querySelector('#df-be2a0b86-9f85-4ac1-ac26-990a1f170827 button.colab-df-convert');\n",
              "        buttonEl.style.display =\n",
              "          google.colab.kernel.accessAllowed ? 'block' : 'none';\n",
              "\n",
              "        async function convertToInteractive(key) {\n",
              "          const element = document.querySelector('#df-be2a0b86-9f85-4ac1-ac26-990a1f170827');\n",
              "          const dataTable =\n",
              "            await google.colab.kernel.invokeFunction('convertToInteractive',\n",
              "                                                     [key], {});\n",
              "          if (!dataTable) return;\n",
              "\n",
              "          const docLinkHtml = 'Like what you see? Visit the ' +\n",
              "            '<a target=\"_blank\" href=https://colab.research.google.com/notebooks/data_table.ipynb>data table notebook</a>'\n",
              "            + ' to learn more about interactive tables.';\n",
              "          element.innerHTML = '';\n",
              "          dataTable['output_type'] = 'display_data';\n",
              "          await google.colab.output.renderOutput(dataTable, element);\n",
              "          const docLink = document.createElement('div');\n",
              "          docLink.innerHTML = docLinkHtml;\n",
              "          element.appendChild(docLink);\n",
              "        }\n",
              "      </script>\n",
              "    </div>\n",
              "  </div>\n",
              "  "
            ]
          },
          "metadata": {},
          "execution_count": 79
        }
      ]
    },
    {
      "cell_type": "markdown",
      "source": [
        "### Split data"
      ],
      "metadata": {
        "id": "1vNaiLgUynLE"
      }
    },
    {
      "cell_type": "code",
      "source": [
        "x_train, x_test, y_train, y_test = train_test_split(x, y, test_size=0.2, random_state=1)"
      ],
      "metadata": {
        "id": "c244GFDyypKH"
      },
      "execution_count": 80,
      "outputs": []
    },
    {
      "cell_type": "markdown",
      "metadata": {
        "id": "qG75eNS627vx"
      },
      "source": [
        "## Build model"
      ]
    },
    {
      "cell_type": "markdown",
      "metadata": {
        "id": "HoDLEgGz2-YI"
      },
      "source": [
        "Logistic regression"
      ]
    },
    {
      "cell_type": "code",
      "execution_count": 81,
      "metadata": {
        "colab": {
          "base_uri": "https://localhost:8080/"
        },
        "id": "elecJMpx8H4R",
        "outputId": "93abeb42-a0f8-433b-8520-5634f57aea1f"
      },
      "outputs": [
        {
          "output_type": "execute_result",
          "data": {
            "text/plain": [
              "0.9958073232087953"
            ]
          },
          "metadata": {},
          "execution_count": 81
        }
      ],
      "source": [
        "log = LogisticRegression().fit(x_train, y_train)\n",
        "pred = log.predict(x_test)\n",
        "log.score(x_test, y_test)"
      ]
    },
    {
      "cell_type": "markdown",
      "source": [
        "# Part 2"
      ],
      "metadata": {
        "id": "aAVgjVJY6-KI"
      }
    },
    {
      "cell_type": "markdown",
      "source": [
        "## Select data"
      ],
      "metadata": {
        "id": "iC4Hdgy47_ym"
      }
    },
    {
      "cell_type": "markdown",
      "source": [
        "Note: This is a very literal way of calculating the mean of the time to resolution. I had to look some stuff up because I'm not 100% what was expected for a \"prediction\" of this."
      ],
      "metadata": {
        "id": "L0D6eNqOH6Bu"
      }
    },
    {
      "cell_type": "code",
      "source": [
        "a = df.loc[df['SR Status'] == 1].loc[:, ['Created Date', 'Closed Date']]\n",
        "a.head()"
      ],
      "metadata": {
        "colab": {
          "base_uri": "https://localhost:8080/",
          "height": 206
        },
        "id": "xst4orny6_uX",
        "outputId": "c0206a7e-cde1-4de6-dfe7-c711bea5a952"
      },
      "execution_count": 89,
      "outputs": [
        {
          "output_type": "execute_result",
          "data": {
            "text/plain": [
              "          Created Date          Closed Date\n",
              "0  2019-03-14 03:02:15  2020-11-23 01:41:21\n",
              "1  2020-04-07 07:06:32  2020-11-23 12:02:05\n",
              "2  2020-02-12 01:55:04  2020-02-12 12:57:35\n",
              "3  2019-12-10 02:17:04  2019-12-11 09:57:54\n",
              "4  2019-12-10 02:51:24  2019-12-10 03:00:05"
            ],
            "text/html": [
              "\n",
              "  <div id=\"df-65cc2ee8-3091-4d94-937d-8c59399240e4\">\n",
              "    <div class=\"colab-df-container\">\n",
              "      <div>\n",
              "<style scoped>\n",
              "    .dataframe tbody tr th:only-of-type {\n",
              "        vertical-align: middle;\n",
              "    }\n",
              "\n",
              "    .dataframe tbody tr th {\n",
              "        vertical-align: top;\n",
              "    }\n",
              "\n",
              "    .dataframe thead th {\n",
              "        text-align: right;\n",
              "    }\n",
              "</style>\n",
              "<table border=\"1\" class=\"dataframe\">\n",
              "  <thead>\n",
              "    <tr style=\"text-align: right;\">\n",
              "      <th></th>\n",
              "      <th>Created Date</th>\n",
              "      <th>Closed Date</th>\n",
              "    </tr>\n",
              "  </thead>\n",
              "  <tbody>\n",
              "    <tr>\n",
              "      <th>0</th>\n",
              "      <td>2019-03-14 03:02:15</td>\n",
              "      <td>2020-11-23 01:41:21</td>\n",
              "    </tr>\n",
              "    <tr>\n",
              "      <th>1</th>\n",
              "      <td>2020-04-07 07:06:32</td>\n",
              "      <td>2020-11-23 12:02:05</td>\n",
              "    </tr>\n",
              "    <tr>\n",
              "      <th>2</th>\n",
              "      <td>2020-02-12 01:55:04</td>\n",
              "      <td>2020-02-12 12:57:35</td>\n",
              "    </tr>\n",
              "    <tr>\n",
              "      <th>3</th>\n",
              "      <td>2019-12-10 02:17:04</td>\n",
              "      <td>2019-12-11 09:57:54</td>\n",
              "    </tr>\n",
              "    <tr>\n",
              "      <th>4</th>\n",
              "      <td>2019-12-10 02:51:24</td>\n",
              "      <td>2019-12-10 03:00:05</td>\n",
              "    </tr>\n",
              "  </tbody>\n",
              "</table>\n",
              "</div>\n",
              "      <button class=\"colab-df-convert\" onclick=\"convertToInteractive('df-65cc2ee8-3091-4d94-937d-8c59399240e4')\"\n",
              "              title=\"Convert this dataframe to an interactive table.\"\n",
              "              style=\"display:none;\">\n",
              "        \n",
              "  <svg xmlns=\"http://www.w3.org/2000/svg\" height=\"24px\"viewBox=\"0 0 24 24\"\n",
              "       width=\"24px\">\n",
              "    <path d=\"M0 0h24v24H0V0z\" fill=\"none\"/>\n",
              "    <path d=\"M18.56 5.44l.94 2.06.94-2.06 2.06-.94-2.06-.94-.94-2.06-.94 2.06-2.06.94zm-11 1L8.5 8.5l.94-2.06 2.06-.94-2.06-.94L8.5 2.5l-.94 2.06-2.06.94zm10 10l.94 2.06.94-2.06 2.06-.94-2.06-.94-.94-2.06-.94 2.06-2.06.94z\"/><path d=\"M17.41 7.96l-1.37-1.37c-.4-.4-.92-.59-1.43-.59-.52 0-1.04.2-1.43.59L10.3 9.45l-7.72 7.72c-.78.78-.78 2.05 0 2.83L4 21.41c.39.39.9.59 1.41.59.51 0 1.02-.2 1.41-.59l7.78-7.78 2.81-2.81c.8-.78.8-2.07 0-2.86zM5.41 20L4 18.59l7.72-7.72 1.47 1.35L5.41 20z\"/>\n",
              "  </svg>\n",
              "      </button>\n",
              "      \n",
              "  <style>\n",
              "    .colab-df-container {\n",
              "      display:flex;\n",
              "      flex-wrap:wrap;\n",
              "      gap: 12px;\n",
              "    }\n",
              "\n",
              "    .colab-df-convert {\n",
              "      background-color: #E8F0FE;\n",
              "      border: none;\n",
              "      border-radius: 50%;\n",
              "      cursor: pointer;\n",
              "      display: none;\n",
              "      fill: #1967D2;\n",
              "      height: 32px;\n",
              "      padding: 0 0 0 0;\n",
              "      width: 32px;\n",
              "    }\n",
              "\n",
              "    .colab-df-convert:hover {\n",
              "      background-color: #E2EBFA;\n",
              "      box-shadow: 0px 1px 2px rgba(60, 64, 67, 0.3), 0px 1px 3px 1px rgba(60, 64, 67, 0.15);\n",
              "      fill: #174EA6;\n",
              "    }\n",
              "\n",
              "    [theme=dark] .colab-df-convert {\n",
              "      background-color: #3B4455;\n",
              "      fill: #D2E3FC;\n",
              "    }\n",
              "\n",
              "    [theme=dark] .colab-df-convert:hover {\n",
              "      background-color: #434B5C;\n",
              "      box-shadow: 0px 1px 3px 1px rgba(0, 0, 0, 0.15);\n",
              "      filter: drop-shadow(0px 1px 2px rgba(0, 0, 0, 0.3));\n",
              "      fill: #FFFFFF;\n",
              "    }\n",
              "  </style>\n",
              "\n",
              "      <script>\n",
              "        const buttonEl =\n",
              "          document.querySelector('#df-65cc2ee8-3091-4d94-937d-8c59399240e4 button.colab-df-convert');\n",
              "        buttonEl.style.display =\n",
              "          google.colab.kernel.accessAllowed ? 'block' : 'none';\n",
              "\n",
              "        async function convertToInteractive(key) {\n",
              "          const element = document.querySelector('#df-65cc2ee8-3091-4d94-937d-8c59399240e4');\n",
              "          const dataTable =\n",
              "            await google.colab.kernel.invokeFunction('convertToInteractive',\n",
              "                                                     [key], {});\n",
              "          if (!dataTable) return;\n",
              "\n",
              "          const docLinkHtml = 'Like what you see? Visit the ' +\n",
              "            '<a target=\"_blank\" href=https://colab.research.google.com/notebooks/data_table.ipynb>data table notebook</a>'\n",
              "            + ' to learn more about interactive tables.';\n",
              "          element.innerHTML = '';\n",
              "          dataTable['output_type'] = 'display_data';\n",
              "          await google.colab.output.renderOutput(dataTable, element);\n",
              "          const docLink = document.createElement('div');\n",
              "          docLink.innerHTML = docLinkHtml;\n",
              "          element.appendChild(docLink);\n",
              "        }\n",
              "      </script>\n",
              "    </div>\n",
              "  </div>\n",
              "  "
            ]
          },
          "metadata": {},
          "execution_count": 89
        }
      ]
    },
    {
      "cell_type": "code",
      "source": [
        "a['Created Date'] =  pd.to_datetime(a['Created Date'], format='%Y-%m-%d %H:%M:%S')\n",
        "a['Closed Date'] =  pd.to_datetime(a['Closed Date'], format='%Y-%m-%d %H:%M:%S')\n",
        "\n",
        "b = a['Closed Date']-a['Created Date']"
      ],
      "metadata": {
        "id": "Iy0JVR8Y-uMe"
      },
      "execution_count": 108,
      "outputs": []
    },
    {
      "cell_type": "code",
      "source": [
        "b.pipe(lambda d: (lambda m: m + (d - m).mean())(d.min()))"
      ],
      "metadata": {
        "colab": {
          "base_uri": "https://localhost:8080/"
        },
        "id": "robwWdIgG85B",
        "outputId": "3049b31a-79fb-491c-8628-058d1b7f606f"
      },
      "execution_count": 110,
      "outputs": [
        {
          "output_type": "execute_result",
          "data": {
            "text/plain": [
              "Timedelta('32 days 21:08:24.041615344')"
            ]
          },
          "metadata": {},
          "execution_count": 110
        }
      ]
    },
    {
      "cell_type": "markdown",
      "source": [
        "Here is the average time to resolution: 32 days, 21 hours, 8 minutes, and 24 seconds. Obviously, this isn't a very pretty solution but I don't see why this wouldn't qualify."
      ],
      "metadata": {
        "id": "vni4YWMdIm13"
      }
    },
    {
      "cell_type": "markdown",
      "source": [
        "# Part 3"
      ],
      "metadata": {
        "id": "v27PiOAkI1Fo"
      }
    },
    {
      "cell_type": "code",
      "source": [
        "log.score(x_test, y_test)"
      ],
      "metadata": {
        "colab": {
          "base_uri": "https://localhost:8080/"
        },
        "id": "0WWuAnjzKjms",
        "outputId": "de50ca45-3213-46c4-a413-144ba91a8be3"
      },
      "execution_count": 116,
      "outputs": [
        {
          "output_type": "execute_result",
          "data": {
            "text/plain": [
              "0.9958073232087953"
            ]
          },
          "metadata": {},
          "execution_count": 116
        }
      ]
    },
    {
      "cell_type": "markdown",
      "source": [
        "The score is very high. That's good, but let's see how legit it is."
      ],
      "metadata": {
        "id": "MSAm1GndKqS8"
      }
    },
    {
      "cell_type": "code",
      "source": [
        "from sklearn.metrics import confusion_matrix\n",
        "confusion_matrix(y_test, pred)"
      ],
      "metadata": {
        "colab": {
          "base_uri": "https://localhost:8080/"
        },
        "id": "PrllMsrPI_Hg",
        "outputId": "c9fcdd1f-6991-498c-fc25-db122039beb1"
      },
      "execution_count": 111,
      "outputs": [
        {
          "output_type": "execute_result",
          "data": {
            "text/plain": [
              "array([[     0,    765],\n",
              "       [     0, 181696]])"
            ]
          },
          "metadata": {},
          "execution_count": 111
        }
      ]
    },
    {
      "cell_type": "markdown",
      "source": [
        "No true positives\n",
        "\n",
        "No false negatives\n",
        "\n",
        "Lots of false positives\n",
        "\n",
        "Lots of true negatives\n",
        "\n",
        "(Something is off)"
      ],
      "metadata": {
        "id": "g5KgVy2KJ0iT"
      }
    },
    {
      "cell_type": "code",
      "source": [
        "from sklearn.metrics import roc_auc_score\n",
        "roc_auc_score(y_test, pred)"
      ],
      "metadata": {
        "colab": {
          "base_uri": "https://localhost:8080/"
        },
        "id": "SlWUxwIdJZKi",
        "outputId": "bc01a4b4-11a6-4f3c-b584-14b83a5cfd67"
      },
      "execution_count": 112,
      "outputs": [
        {
          "output_type": "execute_result",
          "data": {
            "text/plain": [
              "0.5"
            ]
          },
          "metadata": {},
          "execution_count": 112
        }
      ]
    },
    {
      "cell_type": "markdown",
      "source": [
        "Quoted from a Google search: \n",
        "\n",
        "\"This ROC curve has an AUC of 0.5, meaning it ranks a random positive example higher than a random negative example 50% of the time. As such, the corresponding classification model is basically worthless, as its predictive ability is no better than random guessing.\"\n",
        "\n",
        "(The validity of my model isn't looking too good)"
      ],
      "metadata": {
        "id": "4j2xSTwdKKWQ"
      }
    },
    {
      "cell_type": "code",
      "source": [
        "from sklearn.metrics import classification_report\n",
        "print(classification_report(y_test, pred))"
      ],
      "metadata": {
        "colab": {
          "base_uri": "https://localhost:8080/"
        },
        "id": "lb_97OjDJheo",
        "outputId": "46581a3a-93bd-4e27-908e-3030735ec0fa"
      },
      "execution_count": 115,
      "outputs": [
        {
          "output_type": "stream",
          "name": "stdout",
          "text": [
            "              precision    recall  f1-score   support\n",
            "\n",
            "           0       0.00      0.00      0.00       765\n",
            "           1       1.00      1.00      1.00    181696\n",
            "\n",
            "    accuracy                           1.00    182461\n",
            "   macro avg       0.50      0.50      0.50    182461\n",
            "weighted avg       0.99      1.00      0.99    182461\n",
            "\n"
          ]
        },
        {
          "output_type": "stream",
          "name": "stderr",
          "text": [
            "/usr/local/lib/python3.8/dist-packages/sklearn/metrics/_classification.py:1318: UndefinedMetricWarning: Precision and F-score are ill-defined and being set to 0.0 in labels with no predicted samples. Use `zero_division` parameter to control this behavior.\n",
            "  _warn_prf(average, modifier, msg_start, len(result))\n",
            "/usr/local/lib/python3.8/dist-packages/sklearn/metrics/_classification.py:1318: UndefinedMetricWarning: Precision and F-score are ill-defined and being set to 0.0 in labels with no predicted samples. Use `zero_division` parameter to control this behavior.\n",
            "  _warn_prf(average, modifier, msg_start, len(result))\n",
            "/usr/local/lib/python3.8/dist-packages/sklearn/metrics/_classification.py:1318: UndefinedMetricWarning: Precision and F-score are ill-defined and being set to 0.0 in labels with no predicted samples. Use `zero_division` parameter to control this behavior.\n",
            "  _warn_prf(average, modifier, msg_start, len(result))\n"
          ]
        }
      ]
    },
    {
      "cell_type": "markdown",
      "source": [
        "The classification report pretty much sums it up. My model's score looks very good but once you dig deeper it gets ugly. It's ugly ROC score suggests that it isn't much better than just random guessing.\n",
        "\n",
        "It seems that it is totally perfect at predicting Closed cases (represented by 1) and totally imperfect at predicting Open cases (represented by 0). This is probably due to how I set up my model. Maybe I can find out why in class."
      ],
      "metadata": {
        "id": "eopsRHaZK1QG"
      }
    }
  ],
  "metadata": {
    "colab": {
      "provenance": []
    },
    "kernelspec": {
      "display_name": "Python 3",
      "name": "python3"
    },
    "language_info": {
      "name": "python"
    }
  },
  "nbformat": 4,
  "nbformat_minor": 0
}